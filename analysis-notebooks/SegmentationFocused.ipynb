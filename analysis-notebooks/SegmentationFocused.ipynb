{
 "cells": [
  {
   "cell_type": "markdown",
   "metadata": {},
   "source": [
    "# Insulin cystallization study\n",
    "\n",
    "Prepared 10/12/2018"
   ]
  },
  {
   "cell_type": "code",
   "execution_count": 1,
   "metadata": {},
   "outputs": [
    {
     "ename": "ModuleNotFoundError",
     "evalue": "No module named 'matplotlib'",
     "output_type": "error",
     "traceback": [
      "\u001b[0;31m---------------------------------------------------------------------------\u001b[0m",
      "\u001b[0;31mModuleNotFoundError\u001b[0m                       Traceback (most recent call last)",
      "\u001b[0;32m<ipython-input-1-25c277d936d3>\u001b[0m in \u001b[0;36m<module>\u001b[0;34m\u001b[0m\n\u001b[1;32m      1\u001b[0m \u001b[0;32mimport\u001b[0m \u001b[0mnumpy\u001b[0m \u001b[0;32mas\u001b[0m \u001b[0mnp\u001b[0m\u001b[0;34m\u001b[0m\u001b[0m\n\u001b[1;32m      2\u001b[0m \u001b[0;34m\u001b[0m\u001b[0m\n\u001b[0;32m----> 3\u001b[0;31m \u001b[0;32mimport\u001b[0m \u001b[0mmatplotlib\u001b[0m\u001b[0;34m\u001b[0m\u001b[0m\n\u001b[0m\u001b[1;32m      4\u001b[0m \u001b[0;32mimport\u001b[0m \u001b[0mmatplotlib\u001b[0m\u001b[0;34m.\u001b[0m\u001b[0mpyplot\u001b[0m \u001b[0;32mas\u001b[0m \u001b[0mplt\u001b[0m\u001b[0;34m\u001b[0m\u001b[0m\n\u001b[1;32m      5\u001b[0m \u001b[0;32mimport\u001b[0m \u001b[0mmatplotlib\u001b[0m\u001b[0;34m.\u001b[0m\u001b[0mpatches\u001b[0m \u001b[0;32mas\u001b[0m \u001b[0mmpatches\u001b[0m\u001b[0;34m\u001b[0m\u001b[0m\n",
      "\u001b[0;31mModuleNotFoundError\u001b[0m: No module named 'matplotlib'"
     ]
    }
   ],
   "source": [
    "import numpy as np\n",
    "\n",
    "import matplotlib\n",
    "import matplotlib.pyplot as plt\n",
    "import matplotlib.patches as mpatches\n",
    "\n",
    "import skimage\n",
    "from skimage import io, exposure, img_as_float, img_as_ubyte, morphology, filters, util\n",
    "from skimage.color import rgb2gray, label2rgb\n",
    "from skimage.filters import threshold_minimum, sobel\n",
    "from skimage.segmentation import clear_border\n",
    "from skimage.measure import label, regionprops\n",
    "from skimage.morphology import closing, watershed, square\n",
    "\n",
    "import pandas as pd\n",
    "\n",
    "import plotly as py\n",
    "import plotly.graph_objs as go\n",
    "import plotly.io as pio\n",
    "from plotly import tools\n",
    "\n",
    "\n",
    "from joblib import Parallel, delayed\n",
    "\n",
    "import os\n",
    "\n",
    "import itertools"
   ]
  },
  {
   "cell_type": "code",
   "execution_count": 2,
   "metadata": {},
   "outputs": [],
   "source": [
    "# User defined variables\n",
    "## Name of the directory containing the images\n",
    "dirname = \"sample-images\"\n",
    "\n",
    "## Scale\n",
    "scale = 659 #px/mm"
   ]
  },
  {
   "cell_type": "code",
   "execution_count": 3,
   "metadata": {},
   "outputs": [
    {
     "name": "stdout",
     "output_type": "stream",
     "text": [
      "['DSC_6751.JPG', 'DSC_6752.JPG', 'DSC_6753.JPG', 'DSC_6754.JPG', 'DSC_6755.JPG', 'DSC_6756.JPG', 'DSC_6757.JPG', 'DSC_6758.JPG', 'DSC_6759.JPG', 'DSC_6760.JPG', 'DSC_6761.JPG', 'DSC_6762.JPG', 'DSC_6763.JPG', 'DSC_6764.JPG', 'DSC_6765.JPG', 'DSC_6766.JPG', 'DSC_6767.JPG', 'DSC_6768.JPG', 'DSC_6769.JPG', 'DSC_6770.JPG', 'DSC_6771.JPG', 'DSC_6772.JPG', 'DSC_6773.JPG', 'DSC_6774.JPG', 'DSC_6775.JPG', 'DSC_6776.JPG', 'DSC_6777.JPG', 'DSC_6778.JPG', 'DSC_6779.JPG', 'DSC_6780.JPG', 'DSC_6781.JPG', 'DSC_6782.JPG', 'DSC_6783.JPG', 'DSC_6784.JPG', 'DSC_6785.JPG', 'DSC_6786.JPG', 'DSC_6787.JPG', 'DSC_6788.JPG', 'DSC_6789.JPG', 'DSC_6790.JPG', 'DSC_6791.JPG', 'DSC_6792.JPG', 'DSC_6793.JPG', 'DSC_6794.JPG', 'DSC_6795.JPG', 'DSC_6796.JPG', 'DSC_6797.JPG', 'DSC_6798.JPG', 'DSC_6799.JPG', 'DSC_6800.JPG', 'DSC_6801.JPG', 'DSC_6802.JPG', 'DSC_6803.JPG', 'DSC_6804.JPG', 'DSC_6805.JPG', 'DSC_6806.JPG', 'DSC_6807.JPG', 'DSC_6808.JPG', 'DSC_6809.JPG', 'DSC_6810.JPG', 'DSC_6811.JPG', 'DSC_6812.JPG', 'DSC_6813.JPG', 'DSC_6814.JPG']\n",
      "64\n"
     ]
    }
   ],
   "source": [
    "# Create a list of the images to iterate on\n",
    "image_list = []\n",
    "\n",
    "for file in os.listdir(dirname):\n",
    "    if file.endswith(\".JPG\"):\n",
    "        image_list.append(file)\n",
    "        \n",
    "image_list.sort();\n",
    "\n",
    "print(image_list)\n",
    "print(len(image_list))"
   ]
  },
  {
   "cell_type": "code",
   "execution_count": 4,
   "metadata": {},
   "outputs": [],
   "source": [
    "#IO operations\n",
    "def process(file,f_watershed):\n",
    "    #Open the image\n",
    "    image = io.imread(os.getcwd()+\"/\"+dirname+\"/\"+file)\n",
    "    #Analyze the image\n",
    "    if f_watershed:\n",
    "        crystalProps = analyze_crystals_watershed(image)\n",
    "    else:\n",
    "        crystalProps = analyze_crystals(image)\n",
    "    #Retrieve the functionalization name and picture number\n",
    "    idx = image_list.index(file)\n",
    "    funct = funct_order[idx//8]\n",
    "    pic_num = idx%8\n",
    "    # DEBUG # Save the processed image\n",
    "    save_image(image, funct + '_' + str(pic_num), crystalProps, f_watershed)\n",
    "    #Create a dataframe to add the crystals to\n",
    "    col_names = ['Functionalization', 'Pic#', 'Cystal#', 'Size', 'Mean Intensity']\n",
    "    df = pd.DataFrame(columns=col_names)\n",
    "    #Drop the crystal information in the dataframe\n",
    "    for i in range(len(crystalProps)):\n",
    "        df.loc[i] = [funct, pic_num, i, crystalProps[i].area, crystalProps[i].mean_intensity]\n",
    "    return df\n",
    "\n",
    "#Image analysis function (Watershed)\n",
    "def analyze_crystals_watershed(image):\n",
    "    #Convert to grayscale\n",
    "    i_grey = rgb2gray(image)\n",
    "    #Crop the sides\n",
    "    i_cropped = i_grey[0:2848,500:4000]\n",
    "    #Convert to uint8\n",
    "    i_uint = img_as_ubyte(i_cropped)\n",
    "    #Contrast stretching\n",
    "    p2, p98 = np.percentile(i_uint, (2, 98))\n",
    "    i_contStretch = exposure.rescale_intensity(i_uint, in_range=(p2, p98))\n",
    "    #Construct elevation map\n",
    "    elevation_map = sobel(i_contStretch)\n",
    "    #Create markers using extremes of the intensity histogram\n",
    "    markers = np.zeros_like(i_uint)\n",
    "    markers[i_uint < 70] = 1\n",
    "    markers[i_uint > 120] = 2\n",
    "    #Apply the watershed algorithm for segmentation\n",
    "    i_segmented = watershed(elevation_map, markers)\n",
    "    #Close open domains\n",
    "    i_closed = closing(i_segmented, square(3))\n",
    "    #Remove artifacts connected to image border\n",
    "    i_cleared = clear_border(i_closed)\n",
    "    #Label image regions\n",
    "    label_image = label(i_cleared)\n",
    "    image_label_overlay = label2rgb(label_image, image=i_cropped)\n",
    "    #Extract region properties\n",
    "    crystalProps = regionprops(label_image, intensity_image=i_cropped)\n",
    "    \n",
    "    #Return\n",
    "    return crystalProps\n",
    "\n",
    "#Save the processed image (for debugging purposes)\n",
    "def save_image(image, name, regionProps, f_watershed):\n",
    "    \n",
    "    if f_watershed:\n",
    "        algo = 'Watershed'\n",
    "        direct = os.getcwd()+\"/\"+dirname+\"/\"+'ProcessedImagesWtshd'\n",
    "        if not os.path.exists(direct): os.mkdir(direct)\n",
    "    else:\n",
    "        algo = 'Minimum Threshold'\n",
    "        direct = os.getcwd()+\"/\"+dirname+\"/\"+'ProcessedImages'\n",
    "        if not os.path.exists(direct): os.mkdir(direct)\n",
    "    \n",
    "    fig, ax = plt.subplots(figsize=(10, 6))\n",
    "    ax.imshow(image[0:2848,500:4000])\n",
    "\n",
    "    for region in regionProps:\n",
    "        # take regions with large enough areas\n",
    "        if region.area >= 10:\n",
    "            # draw rectangle around segmented coins\n",
    "            minr, minc, maxr, maxc = region.bbox\n",
    "            rect = mpatches.Rectangle((minc, minr), maxc - minc, maxr - minr,\n",
    "                                  fill=False, edgecolor='red', linewidth=1)\n",
    "            ax.add_patch(rect)\n",
    "\n",
    "    ax.set_axis_off()\n",
    "    ax.set_title(algo+ ' - ' + name)\n",
    "    plt.tight_layout()\n",
    "    plt.savefig(direct+'/'+name+\".jpg\")"
   ]
  },
  {
   "cell_type": "code",
   "execution_count": 6,
   "metadata": {},
   "outputs": [
    {
     "name": "stdout",
     "output_type": "stream",
     "text": [
      "Data loaded from disk\n"
     ]
    }
   ],
   "source": [
    "#PROCESSING WATERSHED\n",
    "#If the images have been processed already, load from disk, otherwise, process\n",
    "savepath = os.getcwd()+\"/\"+dirname+\"/\"+\"ProcessedData_Watershed\"+\".pkl\"\n",
    "\n",
    "if os.path.isfile(savepath):\n",
    "    df = pd.read_pickle(savepath)\n",
    "    print(\"Data loaded from disk\")\n",
    "else:\n",
    "    print(\"Did not find data, processing images\")\n",
    "    #Run the crystal analysis on all images in parallel\n",
    "    df_list = Parallel(n_jobs=-2, verbose=10)(delayed(process)(file,True) for file in\n",
    "                                              image_list)\n",
    "    #Merge all the dataframes in one comprehensive crystal dataframe and reindex\n",
    "    df = pd.concat(df_list).reset_index(drop=True)\n",
    "    #Save dataframe to disk\n",
    "    df.to_pickle(savepath)"
   ]
  },
  {
   "cell_type": "code",
   "execution_count": 7,
   "metadata": {},
   "outputs": [
    {
     "data": {
      "text/html": [
       "<div>\n",
       "<style scoped>\n",
       "    .dataframe tbody tr th:only-of-type {\n",
       "        vertical-align: middle;\n",
       "    }\n",
       "\n",
       "    .dataframe tbody tr th {\n",
       "        vertical-align: top;\n",
       "    }\n",
       "\n",
       "    .dataframe thead th {\n",
       "        text-align: right;\n",
       "    }\n",
       "</style>\n",
       "<table border=\"1\" class=\"dataframe\">\n",
       "  <thead>\n",
       "    <tr style=\"text-align: right;\">\n",
       "      <th></th>\n",
       "      <th>Functionalization</th>\n",
       "      <th>Pic#</th>\n",
       "      <th>Cystal#</th>\n",
       "      <th>Size</th>\n",
       "      <th>Mean Intensity</th>\n",
       "    </tr>\n",
       "  </thead>\n",
       "  <tbody>\n",
       "    <tr>\n",
       "      <th>44916</th>\n",
       "      <td>GQD 100</td>\n",
       "      <td>7</td>\n",
       "      <td>1697</td>\n",
       "      <td>360</td>\n",
       "      <td>0.419541</td>\n",
       "    </tr>\n",
       "    <tr>\n",
       "      <th>44917</th>\n",
       "      <td>GQD 100</td>\n",
       "      <td>7</td>\n",
       "      <td>1698</td>\n",
       "      <td>604</td>\n",
       "      <td>0.769376</td>\n",
       "    </tr>\n",
       "    <tr>\n",
       "      <th>44918</th>\n",
       "      <td>GQD 100</td>\n",
       "      <td>7</td>\n",
       "      <td>1699</td>\n",
       "      <td>84</td>\n",
       "      <td>0.445882</td>\n",
       "    </tr>\n",
       "    <tr>\n",
       "      <th>44919</th>\n",
       "      <td>GQD 100</td>\n",
       "      <td>7</td>\n",
       "      <td>1700</td>\n",
       "      <td>326</td>\n",
       "      <td>0.461125</td>\n",
       "    </tr>\n",
       "    <tr>\n",
       "      <th>44920</th>\n",
       "      <td>GQD 100</td>\n",
       "      <td>7</td>\n",
       "      <td>1701</td>\n",
       "      <td>329</td>\n",
       "      <td>0.428052</td>\n",
       "    </tr>\n",
       "  </tbody>\n",
       "</table>\n",
       "</div>"
      ],
      "text/plain": [
       "      Functionalization Pic# Cystal# Size  Mean Intensity\n",
       "44916           GQD 100    7    1697  360        0.419541\n",
       "44917           GQD 100    7    1698  604        0.769376\n",
       "44918           GQD 100    7    1699   84        0.445882\n",
       "44919           GQD 100    7    1700  326        0.461125\n",
       "44920           GQD 100    7    1701  329        0.428052"
      ]
     },
     "execution_count": 7,
     "metadata": {},
     "output_type": "execute_result"
    }
   ],
   "source": [
    "df.tail(5)"
   ]
  },
  {
   "cell_type": "markdown",
   "metadata": {},
   "source": [
    "We define a list of labels to be used for plotting purposes"
   ]
  },
  {
   "cell_type": "code",
   "execution_count": 8,
   "metadata": {},
   "outputs": [],
   "source": [
    "df.groupby(['Functionalization', 'Pic#']).size().index.levels\n",
    "\n",
    "labels = itertools.product(df.groupby(['Functionalization', 'Pic#']).size().index.levels[0], df.groupby(['Functionalization', 'Pic#']).size().index.levels[1])\n",
    "labels_list = []\n",
    "\n",
    "for name in labels:\n",
    "    labels_list.append(name[0] + ' - ' + str(name[1]))"
   ]
  },
  {
   "cell_type": "markdown",
   "metadata": {},
   "source": [
    "## Data cleanup\n",
    "\n",
    "### Remove small crystals\n",
    "\n",
    "First, we remove the smallest of the crystals. The minimum threshold algorithm in particular is prone to detecting tiny domains in larger crystals as particles. After a visual determination, 50px^2 was determined to be a reasonnable cutoff size for both algoritms"
   ]
  },
  {
   "cell_type": "markdown",
   "metadata": {},
   "source": [
    "Define a frame for the number of crystals:"
   ]
  },
  {
   "cell_type": "code",
   "execution_count": 9,
   "metadata": {},
   "outputs": [
    {
     "data": {
      "text/html": [
       "<div>\n",
       "<style scoped>\n",
       "    .dataframe tbody tr th:only-of-type {\n",
       "        vertical-align: middle;\n",
       "    }\n",
       "\n",
       "    .dataframe tbody tr th {\n",
       "        vertical-align: top;\n",
       "    }\n",
       "\n",
       "    .dataframe thead th {\n",
       "        text-align: right;\n",
       "    }\n",
       "</style>\n",
       "<table border=\"1\" class=\"dataframe\">\n",
       "  <thead>\n",
       "    <tr style=\"text-align: right;\">\n",
       "      <th></th>\n",
       "      <th></th>\n",
       "      <th># Crystals</th>\n",
       "    </tr>\n",
       "    <tr>\n",
       "      <th>Functionalization</th>\n",
       "      <th>Pic#</th>\n",
       "      <th></th>\n",
       "    </tr>\n",
       "  </thead>\n",
       "  <tbody>\n",
       "    <tr>\n",
       "      <th rowspan=\"8\" valign=\"top\">Control</th>\n",
       "      <th>0</th>\n",
       "      <td>416</td>\n",
       "    </tr>\n",
       "    <tr>\n",
       "      <th>1</th>\n",
       "      <td>1170</td>\n",
       "    </tr>\n",
       "    <tr>\n",
       "      <th>2</th>\n",
       "      <td>530</td>\n",
       "    </tr>\n",
       "    <tr>\n",
       "      <th>3</th>\n",
       "      <td>761</td>\n",
       "    </tr>\n",
       "    <tr>\n",
       "      <th>4</th>\n",
       "      <td>541</td>\n",
       "    </tr>\n",
       "    <tr>\n",
       "      <th>5</th>\n",
       "      <td>1008</td>\n",
       "    </tr>\n",
       "    <tr>\n",
       "      <th>6</th>\n",
       "      <td>490</td>\n",
       "    </tr>\n",
       "    <tr>\n",
       "      <th>7</th>\n",
       "      <td>810</td>\n",
       "    </tr>\n",
       "    <tr>\n",
       "      <th rowspan=\"2\" valign=\"top\">GQD 100</th>\n",
       "      <th>0</th>\n",
       "      <td>849</td>\n",
       "    </tr>\n",
       "    <tr>\n",
       "      <th>1</th>\n",
       "      <td>2021</td>\n",
       "    </tr>\n",
       "  </tbody>\n",
       "</table>\n",
       "</div>"
      ],
      "text/plain": [
       "                        # Crystals\n",
       "Functionalization Pic#            \n",
       "Control           0            416\n",
       "                  1           1170\n",
       "                  2            530\n",
       "                  3            761\n",
       "                  4            541\n",
       "                  5           1008\n",
       "                  6            490\n",
       "                  7            810\n",
       "GQD 100           0            849\n",
       "                  1           2021"
      ]
     },
     "execution_count": 9,
     "metadata": {},
     "output_type": "execute_result"
    }
   ],
   "source": [
    "#Create a template for the dataframe containing the number of crystals per drop\n",
    "df_num = df.groupby(['Functionalization', 'Pic#']).size().to_frame()\n",
    "df_num.columns = ['# Crystals']\n",
    "df_num.head(10)"
   ]
  },
  {
   "cell_type": "code",
   "execution_count": 11,
   "metadata": {},
   "outputs": [
    {
     "data": {
      "text/html": [
       "<div>\n",
       "<style scoped>\n",
       "    .dataframe tbody tr th:only-of-type {\n",
       "        vertical-align: middle;\n",
       "    }\n",
       "\n",
       "    .dataframe tbody tr th {\n",
       "        vertical-align: top;\n",
       "    }\n",
       "\n",
       "    .dataframe thead th {\n",
       "        text-align: right;\n",
       "    }\n",
       "</style>\n",
       "<table border=\"1\" class=\"dataframe\">\n",
       "  <thead>\n",
       "    <tr style=\"text-align: right;\">\n",
       "      <th></th>\n",
       "      <th></th>\n",
       "      <th># Crystals</th>\n",
       "    </tr>\n",
       "    <tr>\n",
       "      <th>Functionalization</th>\n",
       "      <th>Pic#</th>\n",
       "      <th></th>\n",
       "    </tr>\n",
       "  </thead>\n",
       "  <tbody>\n",
       "    <tr>\n",
       "      <th rowspan=\"8\" valign=\"top\">Control</th>\n",
       "      <th>0</th>\n",
       "      <td>468</td>\n",
       "    </tr>\n",
       "    <tr>\n",
       "      <th>1</th>\n",
       "      <td>1087</td>\n",
       "    </tr>\n",
       "    <tr>\n",
       "      <th>2</th>\n",
       "      <td>484</td>\n",
       "    </tr>\n",
       "    <tr>\n",
       "      <th>3</th>\n",
       "      <td>678</td>\n",
       "    </tr>\n",
       "    <tr>\n",
       "      <th>4</th>\n",
       "      <td>500</td>\n",
       "    </tr>\n",
       "    <tr>\n",
       "      <th>5</th>\n",
       "      <td>778</td>\n",
       "    </tr>\n",
       "    <tr>\n",
       "      <th>6</th>\n",
       "      <td>464</td>\n",
       "    </tr>\n",
       "    <tr>\n",
       "      <th>7</th>\n",
       "      <td>659</td>\n",
       "    </tr>\n",
       "    <tr>\n",
       "      <th rowspan=\"2\" valign=\"top\">GQD 100</th>\n",
       "      <th>0</th>\n",
       "      <td>1103</td>\n",
       "    </tr>\n",
       "    <tr>\n",
       "      <th>1</th>\n",
       "      <td>1793</td>\n",
       "    </tr>\n",
       "  </tbody>\n",
       "</table>\n",
       "</div>"
      ],
      "text/plain": [
       "                        # Crystals\n",
       "Functionalization Pic#            \n",
       "Control           0            468\n",
       "                  1           1087\n",
       "                  2            484\n",
       "                  3            678\n",
       "                  4            500\n",
       "                  5            778\n",
       "                  6            464\n",
       "                  7            659\n",
       "GQD 100           0           1103\n",
       "                  1           1793"
      ]
     },
     "execution_count": 11,
     "metadata": {},
     "output_type": "execute_result"
    }
   ],
   "source": [
    "## Create a dataframe containing the number of crystals per drop, including the drops with 0 crystals!\n",
    "for funct in funct_order:\n",
    "    for i in range(8):\n",
    "        try:\n",
    "            df_num.loc[funct,i] = df.groupby(['Functionalization', 'Pic#']).size().loc[funct,i]\n",
    "        except:\n",
    "            df_num.loc[funct,i] = 0\n",
    "        \n",
    "df_num.head(10)"
   ]
  },
  {
   "cell_type": "markdown",
   "metadata": {},
   "source": [
    "### Evaluate the number of crystals per drop\n",
    "\n",
    "This allows us to drop outliers, where the exposure of the pictures did not permit a good measurement"
   ]
  },
  {
   "cell_type": "code",
   "execution_count": 12,
   "metadata": {},
   "outputs": [
    {
     "data": {
      "application/vnd.jupyter.widget-view+json": {
       "model_id": "58a037f4b691408ea0c3bdd42942a1dc",
       "version_major": 2,
       "version_minor": 0
      },
      "text/plain": [
       "FigureWidget({\n",
       "    'data': [{'text': [Control - 0, Control - 1, Control - 2, Control - 3, Control\n",
       "            …"
      ]
     },
     "metadata": {},
     "output_type": "display_data"
    }
   ],
   "source": [
    "data=[]\n",
    "\n",
    "data.append(go.Bar(\n",
    "    text = labels_list,\n",
    "    y = df_num['# Crystals']))\n",
    "\n",
    "go.FigureWidget(\n",
    "    data,\n",
    "    layout = go.Layout(\n",
    "        width = 800,\n",
    "        height = 500,\n",
    "        xaxis=dict(title='Individual Drop', linecolor = 'black',linewidth = 2, mirror = True),\n",
    "        yaxis=dict(title='# of crystals',linecolor = 'black',linewidth = 2, mirror = True),\n",
    "        showlegend=False\n",
    "    )\n",
    ")"
   ]
  },
  {
   "cell_type": "markdown",
   "metadata": {},
   "source": [
    "## Data Analysis\n",
    "\n",
    "### Number of crystals per drop\n",
    "\n",
    "**Hypothesis**: Addition of particles will increase the number of crystals per drop while reducting their mean size.\n",
    "\n",
    "Let's plot the number of crystals per drop as a function of functionalization"
   ]
  },
  {
   "cell_type": "code",
   "execution_count": 13,
   "metadata": {},
   "outputs": [
    {
     "data": {
      "application/vnd.jupyter.widget-view+json": {
       "model_id": "83e05d2425b24efd816f383623218474",
       "version_major": 2,
       "version_minor": 0
      },
      "text/plain": [
       "FigureWidget({\n",
       "    'data': [{'boxmean': True,\n",
       "              'boxpoints': 'all',\n",
       "              'name': 'NHS 80'…"
      ]
     },
     "metadata": {},
     "output_type": "display_data"
    }
   ],
   "source": [
    "data=[]\n",
    "\n",
    "for i in range(len(funct_order)):\n",
    "    data.append(go.Box(\n",
    "        y=df.groupby(['Functionalization', 'Pic#']).size().loc[funct_order[i]],\n",
    "        name=funct_order[i],\n",
    "        boxpoints='all',\n",
    "        boxmean=True\n",
    "    ))\n",
    "    \n",
    "go.FigureWidget(\n",
    "    data,\n",
    "    layout = go.Layout(\n",
    "        width = 600,\n",
    "        height = 500,\n",
    "        xaxis=dict(title='Functionalization', linecolor = 'black',linewidth = 2, mirror = True),\n",
    "        yaxis=dict(title='# of crystals',linecolor = 'black',linewidth = 2, mirror = True),\n",
    "        showlegend=False\n",
    "    )\n",
    ")"
   ]
  },
  {
   "cell_type": "markdown",
   "metadata": {},
   "source": [
    "There are not enough crystals to be described meaningfully by a boxplot, let's create a bar graph of the average number of crystals per drop as a function of functionalization"
   ]
  },
  {
   "cell_type": "code",
   "execution_count": 17,
   "metadata": {},
   "outputs": [
    {
     "data": {
      "application/vnd.jupyter.widget-view+json": {
       "model_id": "a86c77d402ce44fe9506c339a8fe3a57",
       "version_major": 2,
       "version_minor": 0
      },
      "text/plain": [
       "FigureWidget({\n",
       "    'data': [{'error_y': {'array': [81.3100053147564, 69.90401582578377,\n",
       "                      …"
      ]
     },
     "metadata": {},
     "output_type": "display_data"
    }
   ],
   "source": [
    "data = []\n",
    "\n",
    "data.append(go.Bar(\n",
    "    y = [df.loc[funct_select[i]].mean().iloc[0] for i in range(len(funct_select))] ,\n",
    "    x = funct_select,\n",
    "    error_y=dict(\n",
    "        type='data',\n",
    "        array=[df.loc[funct_select[i]].std().iloc[0]/2 for i in range(len(funct_select))],\n",
    "        visible=True\n",
    "    )\n",
    "))\n",
    "    \n",
    "fig = go.FigureWidget(\n",
    "    data,\n",
    "    layout = go.Layout(\n",
    "        width = 600,\n",
    "        height = 500,\n",
    "        xaxis=dict(title='Functionalization', linecolor = 'black',linewidth = 2, mirror = True),\n",
    "        yaxis=dict(title='# of crystals per drop', range = (0,900), linecolor = 'black',linewidth = 2, mirror = True),\n",
    "        showlegend=False\n",
    "    )\n",
    ")\n",
    "pio.write_image(fig, dirname + '-AvgNumCrystPerDrop.png')\n",
    "fig"
   ]
  },
  {
   "cell_type": "markdown",
   "metadata": {},
   "source": [
    "### Crystal size distribution\n",
    "\n",
    "Let's see whether the introduction of the particles has an effect on the size of the crystals"
   ]
  },
  {
   "cell_type": "code",
   "execution_count": 15,
   "metadata": {},
   "outputs": [
    {
     "data": {
      "text/plain": [
       "Functionalization\n",
       "Control    [631, 2083, 385, 72, 2231, 3212, 140, 624, 36,...\n",
       "GQD 100    [2907, 329, 505, 2216, 505, 938, 354, 785, 679...\n",
       "MAL 100    [1634, 1508, 1649, 5771, 4842, 1155, 1019, 177...\n",
       "MAL 120    [219, 820, 42, 1094, 265, 778, 92, 384, 520, 2...\n",
       "MAL 80     [367, 2106, 2945, 355, 268, 987, 489, 269, 303...\n",
       "NHS 100    [74, 167, 81, 98, 5834, 232, 98, 105, 250, 94,...\n",
       "NHS 120    [62, 30, 246, 1050, 285, 61, 184, 99, 39, 114,...\n",
       "NHS 80     [38, 110, 244, 1953, 640, 1923, 538, 67, 53, 8...\n",
       "Name: Size, dtype: object"
      ]
     },
     "execution_count": 15,
     "metadata": {},
     "output_type": "execute_result"
    }
   ],
   "source": [
    "df_gSize = df_clean.groupby('Functionalization')['Size'].apply(list)\n",
    "df_gSize"
   ]
  },
  {
   "cell_type": "code",
   "execution_count": 18,
   "metadata": {},
   "outputs": [
    {
     "data": {
      "application/vnd.jupyter.widget-view+json": {
       "model_id": "9a440a2335c24bffa97673b166f56309",
       "version_major": 2,
       "version_minor": 0
      },
      "text/plain": [
       "FigureWidget({\n",
       "    'data': [{'boxmean': True,\n",
       "              'name': 'NHS 80',\n",
       "              'type': 'box',\n",
       "   …"
      ]
     },
     "metadata": {},
     "output_type": "display_data"
    }
   ],
   "source": [
    "data=[]\n",
    "\n",
    "for i in range(len(funct_order)):\n",
    "    data.append(go.Box(\n",
    "        y = np.multiply(df_gSize.loc[funct_order[i]],(1/scale)**2),\n",
    "        name=funct_order[i],\n",
    "        boxmean=True\n",
    "    ))\n",
    "    \n",
    "fig = go.FigureWidget(\n",
    "    data,\n",
    "    layout = go.Layout(\n",
    "        width = 600,\n",
    "        height = 500,\n",
    "        xaxis=dict(title='Functionalization', linecolor = 'black',linewidth = 2, mirror = True),\n",
    "        yaxis=dict(title='Size of crystals (mm2)',type='log', linecolor = 'black',linewidth = 2, mirror = True),\n",
    "        showlegend=False\n",
    "    )\n",
    ")\n",
    "pio.write_image(fig, dirname + '-SizeCrystPerDrop.png')\n",
    "fig"
   ]
  },
  {
   "cell_type": "code",
   "execution_count": null,
   "metadata": {},
   "outputs": [],
   "source": []
  }
 ],
 "metadata": {
  "kernelspec": {
   "display_name": "Python 3",
   "language": "python",
   "name": "python3"
  },
  "language_info": {
   "codemirror_mode": {
    "name": "ipython",
    "version": 3
   },
   "file_extension": ".py",
   "mimetype": "text/x-python",
   "name": "python",
   "nbconvert_exporter": "python",
   "pygments_lexer": "ipython3",
   "version": "3.6.4"
  }
 },
 "nbformat": 4,
 "nbformat_minor": 2
}
